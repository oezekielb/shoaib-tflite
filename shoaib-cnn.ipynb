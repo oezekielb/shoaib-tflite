{
 "cells": [
  {
   "cell_type": "code",
   "execution_count": 1,
   "id": "da7e7c68",
   "metadata": {
    "_cell_guid": "b1076dfc-b9ad-4769-8c92-a6c4dae69d19",
    "_uuid": "8f2839f25d086af736a60e9eeb907d3b93b6e0e5",
    "execution": {
     "iopub.execute_input": "2025-10-25T17:26:52.222612Z",
     "iopub.status.busy": "2025-10-25T17:26:52.222339Z",
     "iopub.status.idle": "2025-10-25T17:27:13.245443Z",
     "shell.execute_reply": "2025-10-25T17:27:13.244331Z"
    },
    "papermill": {
     "duration": 21.029441,
     "end_time": "2025-10-25T17:27:13.246993",
     "exception": false,
     "start_time": "2025-10-25T17:26:52.217552",
     "status": "completed"
    },
    "tags": []
   },
   "outputs": [
    {
     "name": "stderr",
     "output_type": "stream",
     "text": [
      "2025-10-25 17:26:58.570233: E external/local_xla/xla/stream_executor/cuda/cuda_fft.cc:477] Unable to register cuFFT factory: Attempting to register factory for plugin cuFFT when one has already been registered\n",
      "WARNING: All log messages before absl::InitializeLog() is called are written to STDERR\n",
      "E0000 00:00:1761413218.850789      13 cuda_dnn.cc:8310] Unable to register cuDNN factory: Attempting to register factory for plugin cuDNN when one has already been registered\n",
      "E0000 00:00:1761413218.931403      13 cuda_blas.cc:1418] Unable to register cuBLAS factory: Attempting to register factory for plugin cuBLAS when one has already been registered\n"
     ]
    }
   ],
   "source": [
    "import os\n",
    "\n",
    "import pandas as pd\n",
    "import numpy as np\n",
    "from tqdm.auto import tqdm\n",
    "import matplotlib.pyplot as plt\n",
    "import seaborn as sns\n",
    "\n",
    "from sklearn.model_selection import train_test_split\n",
    "from sklearn.preprocessing import LabelEncoder\n",
    "from sklearn.metrics import confusion_matrix, classification_report\n",
    "\n",
    "import tensorflow as tf\n",
    "from tensorflow.keras.utils import to_categorical\n",
    "from tensorflow.keras.models import Sequential\n",
    "from tensorflow.keras.layers import Input, Reshape, Conv1D, MaxPooling1D, Dropout, Flatten, Dense\n",
    "from tensorflow.keras.optimizers import RMSprop"
   ]
  },
  {
   "cell_type": "markdown",
   "id": "7b925de9",
   "metadata": {
    "papermill": {
     "duration": 0.002562,
     "end_time": "2025-10-25T17:27:13.252744",
     "exception": false,
     "start_time": "2025-10-25T17:27:13.250182",
     "status": "completed"
    },
    "tags": []
   },
   "source": [
    "# Load dataset"
   ]
  },
  {
   "cell_type": "code",
   "execution_count": 2,
   "id": "e42b0cd3",
   "metadata": {
    "execution": {
     "iopub.execute_input": "2025-10-25T17:27:13.260713Z",
     "iopub.status.busy": "2025-10-25T17:27:13.259389Z",
     "iopub.status.idle": "2025-10-25T17:27:18.996867Z",
     "shell.execute_reply": "2025-10-25T17:27:18.995997Z"
    },
    "papermill": {
     "duration": 5.742457,
     "end_time": "2025-10-25T17:27:18.998109",
     "exception": false,
     "start_time": "2025-10-25T17:27:13.255652",
     "status": "completed"
    },
    "tags": []
   },
   "outputs": [
    {
     "data": {
      "application/vnd.jupyter.widget-view+json": {
       "model_id": "8c732c52b9274d75b314e126d77d3f89",
       "version_major": 2,
       "version_minor": 0
      },
      "text/plain": [
       "  0%|          | 0/50 [00:00<?, ?it/s]"
      ]
     },
     "metadata": {},
     "output_type": "display_data"
    },
    {
     "data": {
      "text/html": [
       "<div>\n",
       "<style scoped>\n",
       "    .dataframe tbody tr th:only-of-type {\n",
       "        vertical-align: middle;\n",
       "    }\n",
       "\n",
       "    .dataframe tbody tr th {\n",
       "        vertical-align: top;\n",
       "    }\n",
       "\n",
       "    .dataframe thead th {\n",
       "        text-align: right;\n",
       "    }\n",
       "</style>\n",
       "<table border=\"1\" class=\"dataframe\">\n",
       "  <thead>\n",
       "    <tr style=\"text-align: right;\">\n",
       "      <th></th>\n",
       "      <th>Ax</th>\n",
       "      <th>Ay</th>\n",
       "      <th>Az</th>\n",
       "      <th>Gx</th>\n",
       "      <th>Gy</th>\n",
       "      <th>Gz</th>\n",
       "      <th>Mx</th>\n",
       "      <th>My</th>\n",
       "      <th>Mz</th>\n",
       "      <th>Activity</th>\n",
       "    </tr>\n",
       "  </thead>\n",
       "  <tbody>\n",
       "    <tr>\n",
       "      <th>0</th>\n",
       "      <td>9.3436</td>\n",
       "      <td>-3.2416</td>\n",
       "      <td>1.089600</td>\n",
       "      <td>0.830170</td>\n",
       "      <td>0.15302</td>\n",
       "      <td>-0.032681</td>\n",
       "      <td>-28.98</td>\n",
       "      <td>11.94</td>\n",
       "      <td>20.46</td>\n",
       "      <td>1</td>\n",
       "    </tr>\n",
       "    <tr>\n",
       "      <th>1</th>\n",
       "      <td>11.3460</td>\n",
       "      <td>-3.5413</td>\n",
       "      <td>0.027241</td>\n",
       "      <td>0.677760</td>\n",
       "      <td>0.16646</td>\n",
       "      <td>-0.094990</td>\n",
       "      <td>-28.92</td>\n",
       "      <td>12.66</td>\n",
       "      <td>20.34</td>\n",
       "      <td>1</td>\n",
       "    </tr>\n",
       "    <tr>\n",
       "      <th>2</th>\n",
       "      <td>14.2200</td>\n",
       "      <td>-4.7126</td>\n",
       "      <td>0.354130</td>\n",
       "      <td>0.265420</td>\n",
       "      <td>0.32590</td>\n",
       "      <td>-0.045509</td>\n",
       "      <td>-29.04</td>\n",
       "      <td>12.90</td>\n",
       "      <td>20.16</td>\n",
       "      <td>1</td>\n",
       "    </tr>\n",
       "    <tr>\n",
       "      <th>3</th>\n",
       "      <td>14.4510</td>\n",
       "      <td>-4.6582</td>\n",
       "      <td>0.354130</td>\n",
       "      <td>-0.009163</td>\n",
       "      <td>0.22388</td>\n",
       "      <td>-0.055894</td>\n",
       "      <td>-28.98</td>\n",
       "      <td>13.20</td>\n",
       "      <td>20.04</td>\n",
       "      <td>1</td>\n",
       "    </tr>\n",
       "    <tr>\n",
       "      <th>4</th>\n",
       "      <td>12.2580</td>\n",
       "      <td>-2.9284</td>\n",
       "      <td>-2.942000</td>\n",
       "      <td>-0.011606</td>\n",
       "      <td>-0.47342</td>\n",
       "      <td>-0.088881</td>\n",
       "      <td>-28.98</td>\n",
       "      <td>13.68</td>\n",
       "      <td>19.56</td>\n",
       "      <td>1</td>\n",
       "    </tr>\n",
       "    <tr>\n",
       "      <th>...</th>\n",
       "      <td>...</td>\n",
       "      <td>...</td>\n",
       "      <td>...</td>\n",
       "      <td>...</td>\n",
       "      <td>...</td>\n",
       "      <td>...</td>\n",
       "      <td>...</td>\n",
       "      <td>...</td>\n",
       "      <td>...</td>\n",
       "      <td>...</td>\n",
       "    </tr>\n",
       "    <tr>\n",
       "      <th>3149995</th>\n",
       "      <td>3.7728</td>\n",
       "      <td>-4.6445</td>\n",
       "      <td>-0.994290</td>\n",
       "      <td>0.378430</td>\n",
       "      <td>-0.17837</td>\n",
       "      <td>-0.659430</td>\n",
       "      <td>-17.28</td>\n",
       "      <td>24.84</td>\n",
       "      <td>-8.64</td>\n",
       "      <td>7</td>\n",
       "    </tr>\n",
       "    <tr>\n",
       "      <th>3149996</th>\n",
       "      <td>3.8409</td>\n",
       "      <td>-4.7671</td>\n",
       "      <td>-1.103200</td>\n",
       "      <td>0.436460</td>\n",
       "      <td>-0.42302</td>\n",
       "      <td>-0.562300</td>\n",
       "      <td>-17.40</td>\n",
       "      <td>24.72</td>\n",
       "      <td>-8.94</td>\n",
       "      <td>7</td>\n",
       "    </tr>\n",
       "    <tr>\n",
       "      <th>3149997</th>\n",
       "      <td>4.0044</td>\n",
       "      <td>-5.4073</td>\n",
       "      <td>-1.280300</td>\n",
       "      <td>0.453870</td>\n",
       "      <td>-0.64874</td>\n",
       "      <td>-0.423020</td>\n",
       "      <td>-17.70</td>\n",
       "      <td>24.54</td>\n",
       "      <td>-9.00</td>\n",
       "      <td>7</td>\n",
       "    </tr>\n",
       "    <tr>\n",
       "      <th>3149998</th>\n",
       "      <td>4.0589</td>\n",
       "      <td>-5.7478</td>\n",
       "      <td>-1.362000</td>\n",
       "      <td>0.431880</td>\n",
       "      <td>-0.81948</td>\n",
       "      <td>-0.292600</td>\n",
       "      <td>-17.94</td>\n",
       "      <td>24.48</td>\n",
       "      <td>-9.18</td>\n",
       "      <td>7</td>\n",
       "    </tr>\n",
       "    <tr>\n",
       "      <th>3149999</th>\n",
       "      <td>3.9771</td>\n",
       "      <td>-6.4288</td>\n",
       "      <td>-1.457400</td>\n",
       "      <td>0.321010</td>\n",
       "      <td>-0.99693</td>\n",
       "      <td>-0.199140</td>\n",
       "      <td>-18.66</td>\n",
       "      <td>24.06</td>\n",
       "      <td>-9.30</td>\n",
       "      <td>7</td>\n",
       "    </tr>\n",
       "  </tbody>\n",
       "</table>\n",
       "<p>3150000 rows × 10 columns</p>\n",
       "</div>"
      ],
      "text/plain": [
       "              Ax      Ay        Az        Gx       Gy        Gz     Mx     My  \\\n",
       "0         9.3436 -3.2416  1.089600  0.830170  0.15302 -0.032681 -28.98  11.94   \n",
       "1        11.3460 -3.5413  0.027241  0.677760  0.16646 -0.094990 -28.92  12.66   \n",
       "2        14.2200 -4.7126  0.354130  0.265420  0.32590 -0.045509 -29.04  12.90   \n",
       "3        14.4510 -4.6582  0.354130 -0.009163  0.22388 -0.055894 -28.98  13.20   \n",
       "4        12.2580 -2.9284 -2.942000 -0.011606 -0.47342 -0.088881 -28.98  13.68   \n",
       "...          ...     ...       ...       ...      ...       ...    ...    ...   \n",
       "3149995   3.7728 -4.6445 -0.994290  0.378430 -0.17837 -0.659430 -17.28  24.84   \n",
       "3149996   3.8409 -4.7671 -1.103200  0.436460 -0.42302 -0.562300 -17.40  24.72   \n",
       "3149997   4.0044 -5.4073 -1.280300  0.453870 -0.64874 -0.423020 -17.70  24.54   \n",
       "3149998   4.0589 -5.7478 -1.362000  0.431880 -0.81948 -0.292600 -17.94  24.48   \n",
       "3149999   3.9771 -6.4288 -1.457400  0.321010 -0.99693 -0.199140 -18.66  24.06   \n",
       "\n",
       "            Mz  Activity  \n",
       "0        20.46         1  \n",
       "1        20.34         1  \n",
       "2        20.16         1  \n",
       "3        20.04         1  \n",
       "4        19.56         1  \n",
       "...        ...       ...  \n",
       "3149995  -8.64         7  \n",
       "3149996  -8.94         7  \n",
       "3149997  -9.00         7  \n",
       "3149998  -9.18         7  \n",
       "3149999  -9.30         7  \n",
       "\n",
       "[3150000 rows x 10 columns]"
      ]
     },
     "execution_count": 2,
     "metadata": {},
     "output_type": "execute_result"
    }
   ],
   "source": [
    "progress = tqdm(total=50)\n",
    "df = pd.DataFrame()\n",
    "for position in [\"Belt\", \"Left-Pocket\", \"Right-Pocket\", \"Upper-Arm\", \"Wrist\"]:\n",
    "    for i in range(10, 0, -1):\n",
    "        # print(f\"{position} Participant {i}\")\n",
    "        url = f\"/kaggle/input/utwente-shoaib/{position}/Participant_{i}.csv/Participant_{i}.csv\"\n",
    "        p_df = pd.read_csv(url)\n",
    "        \n",
    "        df = pd.concat([df, p_df])\n",
    "        progress.update(1)\n",
    "df = df.reset_index(drop=True)\n",
    "progress.close()\n",
    "\n",
    "feature_cols = ['Ax','Ay','Az','Gx','Gy','Gz']\n",
    "X_raw = df[feature_cols].values\n",
    "y_raw = df['Activity'].values.astype(int)\n",
    "\n",
    "df"
   ]
  },
  {
   "cell_type": "markdown",
   "id": "717ea9d8",
   "metadata": {
    "papermill": {
     "duration": 0.003281,
     "end_time": "2025-10-25T17:27:19.005150",
     "exception": false,
     "start_time": "2025-10-25T17:27:19.001869",
     "status": "completed"
    },
    "tags": []
   },
   "source": [
    "# Encode labels"
   ]
  },
  {
   "cell_type": "code",
   "execution_count": 3,
   "id": "97af2095",
   "metadata": {
    "execution": {
     "iopub.execute_input": "2025-10-25T17:27:19.012461Z",
     "iopub.status.busy": "2025-10-25T17:27:19.012180Z",
     "iopub.status.idle": "2025-10-25T17:27:19.251862Z",
     "shell.execute_reply": "2025-10-25T17:27:19.250322Z"
    },
    "papermill": {
     "duration": 0.245028,
     "end_time": "2025-10-25T17:27:19.253386",
     "exception": false,
     "start_time": "2025-10-25T17:27:19.008358",
     "status": "completed"
    },
    "tags": []
   },
   "outputs": [],
   "source": [
    "encoder = LabelEncoder()\n",
    "y_encoded = encoder.fit_transform(y_raw)\n",
    "y_onehot = to_categorical(y_encoded)"
   ]
  },
  {
   "cell_type": "markdown",
   "id": "5bc70d47",
   "metadata": {
    "papermill": {
     "duration": 0.002816,
     "end_time": "2025-10-25T17:27:19.259693",
     "exception": false,
     "start_time": "2025-10-25T17:27:19.256877",
     "status": "completed"
    },
    "tags": []
   },
   "source": [
    "# Sliding windows"
   ]
  },
  {
   "cell_type": "code",
   "execution_count": 4,
   "id": "fc4c4215",
   "metadata": {
    "execution": {
     "iopub.execute_input": "2025-10-25T17:27:19.266574Z",
     "iopub.status.busy": "2025-10-25T17:27:19.266277Z",
     "iopub.status.idle": "2025-10-25T17:27:19.445823Z",
     "shell.execute_reply": "2025-10-25T17:27:19.444674Z"
    },
    "papermill": {
     "duration": 0.184804,
     "end_time": "2025-10-25T17:27:19.447394",
     "exception": false,
     "start_time": "2025-10-25T17:27:19.262590",
     "status": "completed"
    },
    "tags": []
   },
   "outputs": [],
   "source": [
    "def create_windows(X, y, window_size=128, step_size=64):\n",
    "    X_windows = []\n",
    "    y_windows = []\n",
    "    for start in range(0, len(X) - window_size + 1, step_size):\n",
    "        end = start + window_size\n",
    "        X_windows.append(X[start:end])\n",
    "        # Majority vote label in window\n",
    "        y_windows.append(np.bincount(y_encoded[start:end]).argmax())\n",
    "    return np.array(X_windows), np.array(y_windows)\n",
    "\n",
    "window_size = 128\n",
    "step_size = 64\n",
    "X_win, y_win = create_windows(X_raw, y_onehot, window_size, step_size)\n",
    "y_win_onehot = to_categorical(y_win)"
   ]
  },
  {
   "cell_type": "markdown",
   "id": "576706a5",
   "metadata": {
    "papermill": {
     "duration": 0.002559,
     "end_time": "2025-10-25T17:27:19.453134",
     "exception": false,
     "start_time": "2025-10-25T17:27:19.450575",
     "status": "completed"
    },
    "tags": []
   },
   "source": [
    "# Train/test/val split"
   ]
  },
  {
   "cell_type": "code",
   "execution_count": 5,
   "id": "ae78e956",
   "metadata": {
    "execution": {
     "iopub.execute_input": "2025-10-25T17:27:19.460046Z",
     "iopub.status.busy": "2025-10-25T17:27:19.459769Z",
     "iopub.status.idle": "2025-10-25T17:27:19.607839Z",
     "shell.execute_reply": "2025-10-25T17:27:19.606904Z"
    },
    "papermill": {
     "duration": 0.153648,
     "end_time": "2025-10-25T17:27:19.609622",
     "exception": false,
     "start_time": "2025-10-25T17:27:19.455974",
     "status": "completed"
    },
    "tags": []
   },
   "outputs": [],
   "source": [
    "X_train, X_val, y_train, y_val = train_test_split(\n",
    "    X_win, y_win_onehot, test_size=0.2, random_state=42, stratify=y_win\n",
    ")\n",
    "\n",
    "X_train, X_test, y_train, y_test = train_test_split(\n",
    "    X_train, y_train, test_size=0.25, random_state=42, stratify=np.argmax(y_train, axis=1)\n",
    ")"
   ]
  },
  {
   "cell_type": "markdown",
   "id": "af1a6ff1",
   "metadata": {
    "papermill": {
     "duration": 0.002709,
     "end_time": "2025-10-25T17:27:19.615657",
     "exception": false,
     "start_time": "2025-10-25T17:27:19.612948",
     "status": "completed"
    },
    "tags": []
   },
   "source": [
    "# Prepare tf.data for GPU"
   ]
  },
  {
   "cell_type": "code",
   "execution_count": 6,
   "id": "deb48e21",
   "metadata": {
    "execution": {
     "iopub.execute_input": "2025-10-25T17:27:19.622572Z",
     "iopub.status.busy": "2025-10-25T17:27:19.622224Z",
     "iopub.status.idle": "2025-10-25T17:27:19.924726Z",
     "shell.execute_reply": "2025-10-25T17:27:19.923619Z"
    },
    "papermill": {
     "duration": 0.30772,
     "end_time": "2025-10-25T17:27:19.926088",
     "exception": false,
     "start_time": "2025-10-25T17:27:19.618368",
     "status": "completed"
    },
    "tags": []
   },
   "outputs": [
    {
     "name": "stderr",
     "output_type": "stream",
     "text": [
      "2025-10-25 17:27:19.654031: E external/local_xla/xla/stream_executor/cuda/cuda_driver.cc:152] failed call to cuInit: INTERNAL: CUDA error: Failed call to cuInit: UNKNOWN ERROR (303)\n"
     ]
    }
   ],
   "source": [
    "batch_size = 512\n",
    "\n",
    "train_dataset = tf.data.Dataset.from_tensor_slices((X_train, y_train))\n",
    "train_dataset = train_dataset.shuffle(2048).batch(batch_size).prefetch(tf.data.AUTOTUNE)\n",
    "\n",
    "val_dataset = tf.data.Dataset.from_tensor_slices((X_val, y_val))\n",
    "val_dataset = val_dataset.batch(batch_size).prefetch(tf.data.AUTOTUNE)\n",
    "\n",
    "test_dataset = tf.data.Dataset.from_tensor_slices((X_test, y_test))\n",
    "test_dataset = test_dataset.batch(batch_size).prefetch(tf.data.AUTOTUNE)"
   ]
  },
  {
   "cell_type": "markdown",
   "id": "2d695748",
   "metadata": {
    "papermill": {
     "duration": 0.002744,
     "end_time": "2025-10-25T17:27:19.932146",
     "exception": false,
     "start_time": "2025-10-25T17:27:19.929402",
     "status": "completed"
    },
    "tags": []
   },
   "source": [
    "# Build CNN model"
   ]
  },
  {
   "cell_type": "code",
   "execution_count": 7,
   "id": "6753a3f8",
   "metadata": {
    "execution": {
     "iopub.execute_input": "2025-10-25T17:27:19.939156Z",
     "iopub.status.busy": "2025-10-25T17:27:19.938896Z",
     "iopub.status.idle": "2025-10-25T17:27:20.019625Z",
     "shell.execute_reply": "2025-10-25T17:27:20.018608Z"
    },
    "papermill": {
     "duration": 0.085936,
     "end_time": "2025-10-25T17:27:20.020986",
     "exception": false,
     "start_time": "2025-10-25T17:27:19.935050",
     "status": "completed"
    },
    "tags": []
   },
   "outputs": [
    {
     "data": {
      "text/html": [
       "<pre style=\"white-space:pre;overflow-x:auto;line-height:normal;font-family:Menlo,'DejaVu Sans Mono',consolas,'Courier New',monospace\"><span style=\"font-weight: bold\">Model: \"sequential\"</span>\n",
       "</pre>\n"
      ],
      "text/plain": [
       "\u001b[1mModel: \"sequential\"\u001b[0m\n"
      ]
     },
     "metadata": {},
     "output_type": "display_data"
    },
    {
     "data": {
      "text/html": [
       "<pre style=\"white-space:pre;overflow-x:auto;line-height:normal;font-family:Menlo,'DejaVu Sans Mono',consolas,'Courier New',monospace\">┏━━━━━━━━━━━━━━━━━━━━━━━━━━━━━━━━━┳━━━━━━━━━━━━━━━━━━━━━━━━┳━━━━━━━━━━━━━━━┓\n",
       "┃<span style=\"font-weight: bold\"> Layer (type)                    </span>┃<span style=\"font-weight: bold\"> Output Shape           </span>┃<span style=\"font-weight: bold\">       Param # </span>┃\n",
       "┡━━━━━━━━━━━━━━━━━━━━━━━━━━━━━━━━━╇━━━━━━━━━━━━━━━━━━━━━━━━╇━━━━━━━━━━━━━━━┩\n",
       "│ conv1d (<span style=\"color: #0087ff; text-decoration-color: #0087ff\">Conv1D</span>)                 │ (<span style=\"color: #00d7ff; text-decoration-color: #00d7ff\">None</span>, <span style=\"color: #00af00; text-decoration-color: #00af00\">126</span>, <span style=\"color: #00af00; text-decoration-color: #00af00\">32</span>)        │           <span style=\"color: #00af00; text-decoration-color: #00af00\">608</span> │\n",
       "├─────────────────────────────────┼────────────────────────┼───────────────┤\n",
       "│ conv1d_1 (<span style=\"color: #0087ff; text-decoration-color: #0087ff\">Conv1D</span>)               │ (<span style=\"color: #00d7ff; text-decoration-color: #00d7ff\">None</span>, <span style=\"color: #00af00; text-decoration-color: #00af00\">124</span>, <span style=\"color: #00af00; text-decoration-color: #00af00\">32</span>)        │         <span style=\"color: #00af00; text-decoration-color: #00af00\">3,104</span> │\n",
       "├─────────────────────────────────┼────────────────────────┼───────────────┤\n",
       "│ max_pooling1d (<span style=\"color: #0087ff; text-decoration-color: #0087ff\">MaxPooling1D</span>)    │ (<span style=\"color: #00d7ff; text-decoration-color: #00d7ff\">None</span>, <span style=\"color: #00af00; text-decoration-color: #00af00\">62</span>, <span style=\"color: #00af00; text-decoration-color: #00af00\">32</span>)         │             <span style=\"color: #00af00; text-decoration-color: #00af00\">0</span> │\n",
       "├─────────────────────────────────┼────────────────────────┼───────────────┤\n",
       "│ dropout (<span style=\"color: #0087ff; text-decoration-color: #0087ff\">Dropout</span>)               │ (<span style=\"color: #00d7ff; text-decoration-color: #00d7ff\">None</span>, <span style=\"color: #00af00; text-decoration-color: #00af00\">62</span>, <span style=\"color: #00af00; text-decoration-color: #00af00\">32</span>)         │             <span style=\"color: #00af00; text-decoration-color: #00af00\">0</span> │\n",
       "├─────────────────────────────────┼────────────────────────┼───────────────┤\n",
       "│ flatten (<span style=\"color: #0087ff; text-decoration-color: #0087ff\">Flatten</span>)               │ (<span style=\"color: #00d7ff; text-decoration-color: #00d7ff\">None</span>, <span style=\"color: #00af00; text-decoration-color: #00af00\">1984</span>)           │             <span style=\"color: #00af00; text-decoration-color: #00af00\">0</span> │\n",
       "├─────────────────────────────────┼────────────────────────┼───────────────┤\n",
       "│ dense (<span style=\"color: #0087ff; text-decoration-color: #0087ff\">Dense</span>)                   │ (<span style=\"color: #00d7ff; text-decoration-color: #00d7ff\">None</span>, <span style=\"color: #00af00; text-decoration-color: #00af00\">32</span>)             │        <span style=\"color: #00af00; text-decoration-color: #00af00\">63,520</span> │\n",
       "├─────────────────────────────────┼────────────────────────┼───────────────┤\n",
       "│ dense_1 (<span style=\"color: #0087ff; text-decoration-color: #0087ff\">Dense</span>)                 │ (<span style=\"color: #00d7ff; text-decoration-color: #00d7ff\">None</span>, <span style=\"color: #00af00; text-decoration-color: #00af00\">7</span>)              │           <span style=\"color: #00af00; text-decoration-color: #00af00\">231</span> │\n",
       "└─────────────────────────────────┴────────────────────────┴───────────────┘\n",
       "</pre>\n"
      ],
      "text/plain": [
       "┏━━━━━━━━━━━━━━━━━━━━━━━━━━━━━━━━━┳━━━━━━━━━━━━━━━━━━━━━━━━┳━━━━━━━━━━━━━━━┓\n",
       "┃\u001b[1m \u001b[0m\u001b[1mLayer (type)                   \u001b[0m\u001b[1m \u001b[0m┃\u001b[1m \u001b[0m\u001b[1mOutput Shape          \u001b[0m\u001b[1m \u001b[0m┃\u001b[1m \u001b[0m\u001b[1m      Param #\u001b[0m\u001b[1m \u001b[0m┃\n",
       "┡━━━━━━━━━━━━━━━━━━━━━━━━━━━━━━━━━╇━━━━━━━━━━━━━━━━━━━━━━━━╇━━━━━━━━━━━━━━━┩\n",
       "│ conv1d (\u001b[38;5;33mConv1D\u001b[0m)                 │ (\u001b[38;5;45mNone\u001b[0m, \u001b[38;5;34m126\u001b[0m, \u001b[38;5;34m32\u001b[0m)        │           \u001b[38;5;34m608\u001b[0m │\n",
       "├─────────────────────────────────┼────────────────────────┼───────────────┤\n",
       "│ conv1d_1 (\u001b[38;5;33mConv1D\u001b[0m)               │ (\u001b[38;5;45mNone\u001b[0m, \u001b[38;5;34m124\u001b[0m, \u001b[38;5;34m32\u001b[0m)        │         \u001b[38;5;34m3,104\u001b[0m │\n",
       "├─────────────────────────────────┼────────────────────────┼───────────────┤\n",
       "│ max_pooling1d (\u001b[38;5;33mMaxPooling1D\u001b[0m)    │ (\u001b[38;5;45mNone\u001b[0m, \u001b[38;5;34m62\u001b[0m, \u001b[38;5;34m32\u001b[0m)         │             \u001b[38;5;34m0\u001b[0m │\n",
       "├─────────────────────────────────┼────────────────────────┼───────────────┤\n",
       "│ dropout (\u001b[38;5;33mDropout\u001b[0m)               │ (\u001b[38;5;45mNone\u001b[0m, \u001b[38;5;34m62\u001b[0m, \u001b[38;5;34m32\u001b[0m)         │             \u001b[38;5;34m0\u001b[0m │\n",
       "├─────────────────────────────────┼────────────────────────┼───────────────┤\n",
       "│ flatten (\u001b[38;5;33mFlatten\u001b[0m)               │ (\u001b[38;5;45mNone\u001b[0m, \u001b[38;5;34m1984\u001b[0m)           │             \u001b[38;5;34m0\u001b[0m │\n",
       "├─────────────────────────────────┼────────────────────────┼───────────────┤\n",
       "│ dense (\u001b[38;5;33mDense\u001b[0m)                   │ (\u001b[38;5;45mNone\u001b[0m, \u001b[38;5;34m32\u001b[0m)             │        \u001b[38;5;34m63,520\u001b[0m │\n",
       "├─────────────────────────────────┼────────────────────────┼───────────────┤\n",
       "│ dense_1 (\u001b[38;5;33mDense\u001b[0m)                 │ (\u001b[38;5;45mNone\u001b[0m, \u001b[38;5;34m7\u001b[0m)              │           \u001b[38;5;34m231\u001b[0m │\n",
       "└─────────────────────────────────┴────────────────────────┴───────────────┘\n"
      ]
     },
     "metadata": {},
     "output_type": "display_data"
    },
    {
     "data": {
      "text/html": [
       "<pre style=\"white-space:pre;overflow-x:auto;line-height:normal;font-family:Menlo,'DejaVu Sans Mono',consolas,'Courier New',monospace\"><span style=\"font-weight: bold\"> Total params: </span><span style=\"color: #00af00; text-decoration-color: #00af00\">67,463</span> (263.53 KB)\n",
       "</pre>\n"
      ],
      "text/plain": [
       "\u001b[1m Total params: \u001b[0m\u001b[38;5;34m67,463\u001b[0m (263.53 KB)\n"
      ]
     },
     "metadata": {},
     "output_type": "display_data"
    },
    {
     "data": {
      "text/html": [
       "<pre style=\"white-space:pre;overflow-x:auto;line-height:normal;font-family:Menlo,'DejaVu Sans Mono',consolas,'Courier New',monospace\"><span style=\"font-weight: bold\"> Trainable params: </span><span style=\"color: #00af00; text-decoration-color: #00af00\">67,463</span> (263.53 KB)\n",
       "</pre>\n"
      ],
      "text/plain": [
       "\u001b[1m Trainable params: \u001b[0m\u001b[38;5;34m67,463\u001b[0m (263.53 KB)\n"
      ]
     },
     "metadata": {},
     "output_type": "display_data"
    },
    {
     "data": {
      "text/html": [
       "<pre style=\"white-space:pre;overflow-x:auto;line-height:normal;font-family:Menlo,'DejaVu Sans Mono',consolas,'Courier New',monospace\"><span style=\"font-weight: bold\"> Non-trainable params: </span><span style=\"color: #00af00; text-decoration-color: #00af00\">0</span> (0.00 B)\n",
       "</pre>\n"
      ],
      "text/plain": [
       "\u001b[1m Non-trainable params: \u001b[0m\u001b[38;5;34m0\u001b[0m (0.00 B)\n"
      ]
     },
     "metadata": {},
     "output_type": "display_data"
    }
   ],
   "source": [
    "model = Sequential([\n",
    "    Input(shape=(window_size, len(feature_cols))),\n",
    "    Conv1D(filters=32, kernel_size=3, activation='relu'),\n",
    "    Conv1D(filters=32, kernel_size=3, activation='relu'),\n",
    "    MaxPooling1D(pool_size=2),\n",
    "    Dropout(0.6),\n",
    "    Flatten(),\n",
    "    Dense(32, activation='relu'),\n",
    "    Dense(y_win_onehot.shape[1], activation='softmax')\n",
    "])\n",
    "\n",
    "optimizer = RMSprop(learning_rate=0.001)\n",
    "model.compile(optimizer=optimizer, loss='categorical_crossentropy', metrics=['accuracy'])\n",
    "model.summary()"
   ]
  },
  {
   "cell_type": "markdown",
   "id": "f63dc035",
   "metadata": {
    "papermill": {
     "duration": 0.003101,
     "end_time": "2025-10-25T17:27:20.027802",
     "exception": false,
     "start_time": "2025-10-25T17:27:20.024701",
     "status": "completed"
    },
    "tags": []
   },
   "source": [
    "# Train model"
   ]
  },
  {
   "cell_type": "code",
   "execution_count": 8,
   "id": "4d97aa52",
   "metadata": {
    "execution": {
     "iopub.execute_input": "2025-10-25T17:27:20.035569Z",
     "iopub.status.busy": "2025-10-25T17:27:20.035273Z",
     "iopub.status.idle": "2025-10-25T17:29:12.545806Z",
     "shell.execute_reply": "2025-10-25T17:29:12.544901Z"
    },
    "papermill": {
     "duration": 112.515788,
     "end_time": "2025-10-25T17:29:12.546871",
     "exception": false,
     "start_time": "2025-10-25T17:27:20.031083",
     "status": "completed"
    },
    "tags": []
   },
   "outputs": [
    {
     "name": "stdout",
     "output_type": "stream",
     "text": [
      "Epoch 1/50\n",
      "\u001b[1m58/58\u001b[0m \u001b[32m━━━━━━━━━━━━━━━━━━━━\u001b[0m\u001b[37m\u001b[0m \u001b[1m4s\u001b[0m 44ms/step - accuracy: 0.3859 - loss: 1.8545 - val_accuracy: 0.7153 - val_loss: 0.7264\n",
      "Epoch 2/50\n",
      "\u001b[1m58/58\u001b[0m \u001b[32m━━━━━━━━━━━━━━━━━━━━\u001b[0m\u001b[37m\u001b[0m \u001b[1m2s\u001b[0m 38ms/step - accuracy: 0.7178 - loss: 0.7093 - val_accuracy: 0.8475 - val_loss: 0.4378\n",
      "Epoch 3/50\n",
      "\u001b[1m58/58\u001b[0m \u001b[32m━━━━━━━━━━━━━━━━━━━━\u001b[0m\u001b[37m\u001b[0m \u001b[1m2s\u001b[0m 38ms/step - accuracy: 0.8011 - loss: 0.4987 - val_accuracy: 0.8655 - val_loss: 0.3805\n",
      "Epoch 4/50\n",
      "\u001b[1m58/58\u001b[0m \u001b[32m━━━━━━━━━━━━━━━━━━━━\u001b[0m\u001b[37m\u001b[0m \u001b[1m2s\u001b[0m 38ms/step - accuracy: 0.8357 - loss: 0.4113 - val_accuracy: 0.8349 - val_loss: 0.4285\n",
      "Epoch 5/50\n",
      "\u001b[1m58/58\u001b[0m \u001b[32m━━━━━━━━━━━━━━━━━━━━\u001b[0m\u001b[37m\u001b[0m \u001b[1m2s\u001b[0m 38ms/step - accuracy: 0.8654 - loss: 0.3498 - val_accuracy: 0.9063 - val_loss: 0.2692\n",
      "Epoch 6/50\n",
      "\u001b[1m58/58\u001b[0m \u001b[32m━━━━━━━━━━━━━━━━━━━━\u001b[0m\u001b[37m\u001b[0m \u001b[1m2s\u001b[0m 38ms/step - accuracy: 0.8838 - loss: 0.3029 - val_accuracy: 0.9180 - val_loss: 0.2492\n",
      "Epoch 7/50\n",
      "\u001b[1m58/58\u001b[0m \u001b[32m━━━━━━━━━━━━━━━━━━━━\u001b[0m\u001b[37m\u001b[0m \u001b[1m2s\u001b[0m 38ms/step - accuracy: 0.8982 - loss: 0.2792 - val_accuracy: 0.8751 - val_loss: 0.3165\n",
      "Epoch 8/50\n",
      "\u001b[1m58/58\u001b[0m \u001b[32m━━━━━━━━━━━━━━━━━━━━\u001b[0m\u001b[37m\u001b[0m \u001b[1m2s\u001b[0m 36ms/step - accuracy: 0.9102 - loss: 0.2412 - val_accuracy: 0.9445 - val_loss: 0.1926\n",
      "Epoch 9/50\n",
      "\u001b[1m58/58\u001b[0m \u001b[32m━━━━━━━━━━━━━━━━━━━━\u001b[0m\u001b[37m\u001b[0m \u001b[1m3s\u001b[0m 38ms/step - accuracy: 0.9119 - loss: 0.2401 - val_accuracy: 0.9464 - val_loss: 0.1836\n",
      "Epoch 10/50\n",
      "\u001b[1m58/58\u001b[0m \u001b[32m━━━━━━━━━━━━━━━━━━━━\u001b[0m\u001b[37m\u001b[0m \u001b[1m2s\u001b[0m 36ms/step - accuracy: 0.9232 - loss: 0.2196 - val_accuracy: 0.9352 - val_loss: 0.1879\n",
      "Epoch 11/50\n",
      "\u001b[1m58/58\u001b[0m \u001b[32m━━━━━━━━━━━━━━━━━━━━\u001b[0m\u001b[37m\u001b[0m \u001b[1m2s\u001b[0m 36ms/step - accuracy: 0.9369 - loss: 0.1835 - val_accuracy: 0.9378 - val_loss: 0.1900\n",
      "Epoch 12/50\n",
      "\u001b[1m58/58\u001b[0m \u001b[32m━━━━━━━━━━━━━━━━━━━━\u001b[0m\u001b[37m\u001b[0m \u001b[1m2s\u001b[0m 38ms/step - accuracy: 0.9361 - loss: 0.1821 - val_accuracy: 0.9461 - val_loss: 0.1585\n",
      "Epoch 13/50\n",
      "\u001b[1m58/58\u001b[0m \u001b[32m━━━━━━━━━━━━━━━━━━━━\u001b[0m\u001b[37m\u001b[0m \u001b[1m2s\u001b[0m 37ms/step - accuracy: 0.9475 - loss: 0.1545 - val_accuracy: 0.9280 - val_loss: 0.1867\n",
      "Epoch 14/50\n",
      "\u001b[1m58/58\u001b[0m \u001b[32m━━━━━━━━━━━━━━━━━━━━\u001b[0m\u001b[37m\u001b[0m \u001b[1m2s\u001b[0m 37ms/step - accuracy: 0.9420 - loss: 0.1649 - val_accuracy: 0.9413 - val_loss: 0.1878\n",
      "Epoch 15/50\n",
      "\u001b[1m58/58\u001b[0m \u001b[32m━━━━━━━━━━━━━━━━━━━━\u001b[0m\u001b[37m\u001b[0m \u001b[1m2s\u001b[0m 39ms/step - accuracy: 0.9464 - loss: 0.1504 - val_accuracy: 0.9518 - val_loss: 0.1435\n",
      "Epoch 16/50\n",
      "\u001b[1m58/58\u001b[0m \u001b[32m━━━━━━━━━━━━━━━━━━━━\u001b[0m\u001b[37m\u001b[0m \u001b[1m2s\u001b[0m 37ms/step - accuracy: 0.9513 - loss: 0.1420 - val_accuracy: 0.9630 - val_loss: 0.1216\n",
      "Epoch 17/50\n",
      "\u001b[1m58/58\u001b[0m \u001b[32m━━━━━━━━━━━━━━━━━━━━\u001b[0m\u001b[37m\u001b[0m \u001b[1m2s\u001b[0m 36ms/step - accuracy: 0.9536 - loss: 0.1328 - val_accuracy: 0.9470 - val_loss: 0.1523\n",
      "Epoch 18/50\n",
      "\u001b[1m58/58\u001b[0m \u001b[32m━━━━━━━━━━━━━━━━━━━━\u001b[0m\u001b[37m\u001b[0m \u001b[1m3s\u001b[0m 37ms/step - accuracy: 0.9561 - loss: 0.1267 - val_accuracy: 0.9320 - val_loss: 0.2164\n",
      "Epoch 19/50\n",
      "\u001b[1m58/58\u001b[0m \u001b[32m━━━━━━━━━━━━━━━━━━━━\u001b[0m\u001b[37m\u001b[0m \u001b[1m2s\u001b[0m 37ms/step - accuracy: 0.9562 - loss: 0.1285 - val_accuracy: 0.9638 - val_loss: 0.1142\n",
      "Epoch 20/50\n",
      "\u001b[1m58/58\u001b[0m \u001b[32m━━━━━━━━━━━━━━━━━━━━\u001b[0m\u001b[37m\u001b[0m \u001b[1m2s\u001b[0m 37ms/step - accuracy: 0.9598 - loss: 0.1207 - val_accuracy: 0.9652 - val_loss: 0.1262\n",
      "Epoch 21/50\n",
      "\u001b[1m58/58\u001b[0m \u001b[32m━━━━━━━━━━━━━━━━━━━━\u001b[0m\u001b[37m\u001b[0m \u001b[1m2s\u001b[0m 35ms/step - accuracy: 0.9620 - loss: 0.1119 - val_accuracy: 0.9687 - val_loss: 0.1042\n",
      "Epoch 22/50\n",
      "\u001b[1m58/58\u001b[0m \u001b[32m━━━━━━━━━━━━━━━━━━━━\u001b[0m\u001b[37m\u001b[0m \u001b[1m2s\u001b[0m 36ms/step - accuracy: 0.9630 - loss: 0.1050 - val_accuracy: 0.9604 - val_loss: 0.1221\n",
      "Epoch 23/50\n",
      "\u001b[1m58/58\u001b[0m \u001b[32m━━━━━━━━━━━━━━━━━━━━\u001b[0m\u001b[37m\u001b[0m \u001b[1m2s\u001b[0m 37ms/step - accuracy: 0.9636 - loss: 0.1058 - val_accuracy: 0.9557 - val_loss: 0.1441\n",
      "Epoch 24/50\n",
      "\u001b[1m58/58\u001b[0m \u001b[32m━━━━━━━━━━━━━━━━━━━━\u001b[0m\u001b[37m\u001b[0m \u001b[1m2s\u001b[0m 36ms/step - accuracy: 0.9655 - loss: 0.1025 - val_accuracy: 0.9716 - val_loss: 0.1028\n",
      "Epoch 25/50\n",
      "\u001b[1m58/58\u001b[0m \u001b[32m━━━━━━━━━━━━━━━━━━━━\u001b[0m\u001b[37m\u001b[0m \u001b[1m3s\u001b[0m 36ms/step - accuracy: 0.9684 - loss: 0.0921 - val_accuracy: 0.9699 - val_loss: 0.1063\n",
      "Epoch 26/50\n",
      "\u001b[1m58/58\u001b[0m \u001b[32m━━━━━━━━━━━━━━━━━━━━\u001b[0m\u001b[37m\u001b[0m \u001b[1m2s\u001b[0m 37ms/step - accuracy: 0.9705 - loss: 0.0897 - val_accuracy: 0.9710 - val_loss: 0.0998\n",
      "Epoch 27/50\n",
      "\u001b[1m58/58\u001b[0m \u001b[32m━━━━━━━━━━━━━━━━━━━━\u001b[0m\u001b[37m\u001b[0m \u001b[1m2s\u001b[0m 37ms/step - accuracy: 0.9699 - loss: 0.0877 - val_accuracy: 0.9660 - val_loss: 0.1112\n",
      "Epoch 28/50\n",
      "\u001b[1m58/58\u001b[0m \u001b[32m━━━━━━━━━━━━━━━━━━━━\u001b[0m\u001b[37m\u001b[0m \u001b[1m2s\u001b[0m 35ms/step - accuracy: 0.9686 - loss: 0.0892 - val_accuracy: 0.9726 - val_loss: 0.1002\n",
      "Epoch 29/50\n",
      "\u001b[1m58/58\u001b[0m \u001b[32m━━━━━━━━━━━━━━━━━━━━\u001b[0m\u001b[37m\u001b[0m \u001b[1m2s\u001b[0m 37ms/step - accuracy: 0.9677 - loss: 0.0960 - val_accuracy: 0.9596 - val_loss: 0.1423\n",
      "Epoch 30/50\n",
      "\u001b[1m58/58\u001b[0m \u001b[32m━━━━━━━━━━━━━━━━━━━━\u001b[0m\u001b[37m\u001b[0m \u001b[1m2s\u001b[0m 38ms/step - accuracy: 0.9700 - loss: 0.0904 - val_accuracy: 0.9705 - val_loss: 0.1002\n",
      "Epoch 31/50\n",
      "\u001b[1m58/58\u001b[0m \u001b[32m━━━━━━━━━━━━━━━━━━━━\u001b[0m\u001b[37m\u001b[0m \u001b[1m2s\u001b[0m 37ms/step - accuracy: 0.9749 - loss: 0.0791 - val_accuracy: 0.9694 - val_loss: 0.1175\n",
      "Epoch 32/50\n",
      "\u001b[1m58/58\u001b[0m \u001b[32m━━━━━━━━━━━━━━━━━━━━\u001b[0m\u001b[37m\u001b[0m \u001b[1m2s\u001b[0m 37ms/step - accuracy: 0.9717 - loss: 0.0834 - val_accuracy: 0.9699 - val_loss: 0.1029\n",
      "Epoch 33/50\n",
      "\u001b[1m58/58\u001b[0m \u001b[32m━━━━━━━━━━━━━━━━━━━━\u001b[0m\u001b[37m\u001b[0m \u001b[1m2s\u001b[0m 37ms/step - accuracy: 0.9715 - loss: 0.0812 - val_accuracy: 0.9681 - val_loss: 0.1055\n",
      "Epoch 34/50\n",
      "\u001b[1m58/58\u001b[0m \u001b[32m━━━━━━━━━━━━━━━━━━━━\u001b[0m\u001b[37m\u001b[0m \u001b[1m2s\u001b[0m 36ms/step - accuracy: 0.9729 - loss: 0.0774 - val_accuracy: 0.9703 - val_loss: 0.0987\n",
      "Epoch 35/50\n",
      "\u001b[1m58/58\u001b[0m \u001b[32m━━━━━━━━━━━━━━━━━━━━\u001b[0m\u001b[37m\u001b[0m \u001b[1m2s\u001b[0m 37ms/step - accuracy: 0.9742 - loss: 0.0760 - val_accuracy: 0.9729 - val_loss: 0.1042\n",
      "Epoch 36/50\n",
      "\u001b[1m58/58\u001b[0m \u001b[32m━━━━━━━━━━━━━━━━━━━━\u001b[0m\u001b[37m\u001b[0m \u001b[1m2s\u001b[0m 36ms/step - accuracy: 0.9767 - loss: 0.0716 - val_accuracy: 0.9737 - val_loss: 0.1028\n",
      "Epoch 37/50\n",
      "\u001b[1m58/58\u001b[0m \u001b[32m━━━━━━━━━━━━━━━━━━━━\u001b[0m\u001b[37m\u001b[0m \u001b[1m2s\u001b[0m 37ms/step - accuracy: 0.9765 - loss: 0.0672 - val_accuracy: 0.9660 - val_loss: 0.1180\n",
      "Epoch 38/50\n",
      "\u001b[1m58/58\u001b[0m \u001b[32m━━━━━━━━━━━━━━━━━━━━\u001b[0m\u001b[37m\u001b[0m \u001b[1m2s\u001b[0m 37ms/step - accuracy: 0.9747 - loss: 0.0741 - val_accuracy: 0.9735 - val_loss: 0.0978\n",
      "Epoch 39/50\n",
      "\u001b[1m58/58\u001b[0m \u001b[32m━━━━━━━━━━━━━━━━━━━━\u001b[0m\u001b[37m\u001b[0m \u001b[1m2s\u001b[0m 36ms/step - accuracy: 0.9761 - loss: 0.0704 - val_accuracy: 0.9660 - val_loss: 0.1081\n",
      "Epoch 40/50\n",
      "\u001b[1m58/58\u001b[0m \u001b[32m━━━━━━━━━━━━━━━━━━━━\u001b[0m\u001b[37m\u001b[0m \u001b[1m2s\u001b[0m 38ms/step - accuracy: 0.9763 - loss: 0.0733 - val_accuracy: 0.9726 - val_loss: 0.1037\n",
      "Epoch 41/50\n",
      "\u001b[1m58/58\u001b[0m \u001b[32m━━━━━━━━━━━━━━━━━━━━\u001b[0m\u001b[37m\u001b[0m \u001b[1m2s\u001b[0m 37ms/step - accuracy: 0.9750 - loss: 0.0696 - val_accuracy: 0.9745 - val_loss: 0.0931\n",
      "Epoch 42/50\n",
      "\u001b[1m58/58\u001b[0m \u001b[32m━━━━━━━━━━━━━━━━━━━━\u001b[0m\u001b[37m\u001b[0m \u001b[1m2s\u001b[0m 39ms/step - accuracy: 0.9798 - loss: 0.0580 - val_accuracy: 0.9737 - val_loss: 0.0956\n",
      "Epoch 43/50\n",
      "\u001b[1m58/58\u001b[0m \u001b[32m━━━━━━━━━━━━━━━━━━━━\u001b[0m\u001b[37m\u001b[0m \u001b[1m2s\u001b[0m 38ms/step - accuracy: 0.9777 - loss: 0.0708 - val_accuracy: 0.9738 - val_loss: 0.0961\n",
      "Epoch 44/50\n",
      "\u001b[1m58/58\u001b[0m \u001b[32m━━━━━━━━━━━━━━━━━━━━\u001b[0m\u001b[37m\u001b[0m \u001b[1m2s\u001b[0m 37ms/step - accuracy: 0.9779 - loss: 0.0611 - val_accuracy: 0.9756 - val_loss: 0.0962\n",
      "Epoch 45/50\n",
      "\u001b[1m58/58\u001b[0m \u001b[32m━━━━━━━━━━━━━━━━━━━━\u001b[0m\u001b[37m\u001b[0m \u001b[1m2s\u001b[0m 38ms/step - accuracy: 0.9788 - loss: 0.0604 - val_accuracy: 0.9765 - val_loss: 0.0930\n",
      "Epoch 46/50\n",
      "\u001b[1m58/58\u001b[0m \u001b[32m━━━━━━━━━━━━━━━━━━━━\u001b[0m\u001b[37m\u001b[0m \u001b[1m2s\u001b[0m 37ms/step - accuracy: 0.9777 - loss: 0.0693 - val_accuracy: 0.9747 - val_loss: 0.0974\n",
      "Epoch 47/50\n",
      "\u001b[1m58/58\u001b[0m \u001b[32m━━━━━━━━━━━━━━━━━━━━\u001b[0m\u001b[37m\u001b[0m \u001b[1m2s\u001b[0m 37ms/step - accuracy: 0.9782 - loss: 0.0643 - val_accuracy: 0.9783 - val_loss: 0.0906\n",
      "Epoch 48/50\n",
      "\u001b[1m58/58\u001b[0m \u001b[32m━━━━━━━━━━━━━━━━━━━━\u001b[0m\u001b[37m\u001b[0m \u001b[1m3s\u001b[0m 38ms/step - accuracy: 0.9784 - loss: 0.0616 - val_accuracy: 0.9758 - val_loss: 0.0935\n",
      "Epoch 49/50\n",
      "\u001b[1m58/58\u001b[0m \u001b[32m━━━━━━━━━━━━━━━━━━━━\u001b[0m\u001b[37m\u001b[0m \u001b[1m2s\u001b[0m 39ms/step - accuracy: 0.9798 - loss: 0.0548 - val_accuracy: 0.9777 - val_loss: 0.0915\n",
      "Epoch 50/50\n",
      "\u001b[1m58/58\u001b[0m \u001b[32m━━━━━━━━━━━━━━━━━━━━\u001b[0m\u001b[37m\u001b[0m \u001b[1m3s\u001b[0m 38ms/step - accuracy: 0.9801 - loss: 0.0560 - val_accuracy: 0.9778 - val_loss: 0.0896\n",
      "561.0 KB\n"
     ]
    }
   ],
   "source": [
    "history = model.fit(\n",
    "    train_dataset,\n",
    "    epochs=50,\n",
    "    validation_data=val_dataset\n",
    ")\n",
    "\n",
    "filename = \"/kaggle/working/shoaib_har_cnn.keras\"\n",
    "model.save(filename)\n",
    "print(os.path.getsize(filename) / 1024, \"KB\")"
   ]
  },
  {
   "cell_type": "markdown",
   "id": "ea6c3ab4",
   "metadata": {
    "papermill": {
     "duration": 0.059228,
     "end_time": "2025-10-25T17:29:12.667318",
     "exception": false,
     "start_time": "2025-10-25T17:29:12.608090",
     "status": "completed"
    },
    "tags": []
   },
   "source": [
    "# Evaluate"
   ]
  },
  {
   "cell_type": "code",
   "execution_count": 9,
   "id": "8a0ae687",
   "metadata": {
    "execution": {
     "iopub.execute_input": "2025-10-25T17:29:12.787126Z",
     "iopub.status.busy": "2025-10-25T17:29:12.786866Z",
     "iopub.status.idle": "2025-10-25T17:29:13.525889Z",
     "shell.execute_reply": "2025-10-25T17:29:13.524549Z"
    },
    "papermill": {
     "duration": 0.801796,
     "end_time": "2025-10-25T17:29:13.527568",
     "exception": false,
     "start_time": "2025-10-25T17:29:12.725772",
     "status": "completed"
    },
    "tags": []
   },
   "outputs": [
    {
     "name": "stdout",
     "output_type": "stream",
     "text": [
      "\u001b[1m20/20\u001b[0m \u001b[32m━━━━━━━━━━━━━━━━━━━━\u001b[0m\u001b[37m\u001b[0m \u001b[1m0s\u001b[0m 13ms/step\n",
      "              precision    recall  f1-score   support\n",
      "\n",
      "     walking       0.98      0.97      0.97      1408\n",
      "    standing       0.97      0.99      0.98      1406\n",
      "     jogging       0.99      0.99      0.99      1406\n",
      "     sitting       0.99      0.97      0.98      1406\n",
      "      biking       0.99      0.99      0.99      1407\n",
      "    upstairs       0.97      0.96      0.97      1406\n",
      "  downstairs       0.96      0.99      0.98      1405\n",
      "\n",
      "    accuracy                           0.98      9844\n",
      "   macro avg       0.98      0.98      0.98      9844\n",
      "weighted avg       0.98      0.98      0.98      9844\n",
      "\n"
     ]
    },
    {
     "data": {
      "image/png": "[encoded data removed]",
      "text/plain": [
       "<Figure size 640x480 with 2 Axes>"
      ]
     },
     "metadata": {},
     "output_type": "display_data"
    }
   ],
   "source": [
    "labels = ['walking', 'standing', 'jogging', 'sitting', 'biking', 'upstairs', 'downstairs']\n",
    "y_pred_probs = model.predict(test_dataset)          # probabilities\n",
    "y_pred = np.argmax(y_pred_probs, axis=1)          # predicted labels\n",
    "y_true = np.argmax(y_test, axis=1)                # true labels\n",
    "print(classification_report(y_true, y_pred, target_names=labels))\n",
    "\n",
    "cm = confusion_matrix(y_true, y_pred)\n",
    "cm = cm / cm.sum(axis=1)[:, None]\n",
    "labels = ['walking', 'standing', 'jogging', 'sitting', 'biking', 'upstairs', 'downstairs']\n",
    "sns.heatmap(cm, annot=True, xticklabels=labels, yticklabels=labels, fmt=\".2f\", cmap=\"Blues\")\n",
    "plt.xlabel('Predicted')\n",
    "plt.ylabel('True')\n",
    "plt.title('Confusion Matrix')\n",
    "plt.show()"
   ]
  },
  {
   "cell_type": "markdown",
   "id": "49fbf36c",
   "metadata": {
    "papermill": {
     "duration": 0.19276,
     "end_time": "2025-10-25T17:29:13.783642",
     "exception": false,
     "start_time": "2025-10-25T17:29:13.590882",
     "status": "completed"
    },
    "tags": []
   },
   "source": [
    "# Convert to TFLite"
   ]
  },
  {
   "cell_type": "code",
   "execution_count": 10,
   "id": "942cdedd",
   "metadata": {
    "execution": {
     "iopub.execute_input": "2025-10-25T17:29:13.905064Z",
     "iopub.status.busy": "2025-10-25T17:29:13.904799Z",
     "iopub.status.idle": "2025-10-25T17:29:16.313796Z",
     "shell.execute_reply": "2025-10-25T17:29:16.312617Z"
    },
    "papermill": {
     "duration": 2.471547,
     "end_time": "2025-10-25T17:29:16.315301",
     "exception": false,
     "start_time": "2025-10-25T17:29:13.843754",
     "status": "completed"
    },
    "tags": []
   },
   "outputs": [
    {
     "name": "stdout",
     "output_type": "stream",
     "text": [
      "Saved artifact at '/tmp/tmpjroum_8v'. The following endpoints are available:\n",
      "\n",
      "* Endpoint 'serve'\n",
      "  args_0 (POSITIONAL_ONLY): TensorSpec(shape=(None, 128, 6), dtype=tf.float32, name='keras_tensor')\n",
      "Output Type:\n",
      "  TensorSpec(shape=(None, 7), dtype=tf.float32, name=None)\n",
      "Captures:\n",
      "  135587031884880: TensorSpec(shape=(), dtype=tf.resource, name=None)\n",
      "  135587031886416: TensorSpec(shape=(), dtype=tf.resource, name=None)\n",
      "  135587031885264: TensorSpec(shape=(), dtype=tf.resource, name=None)\n",
      "  135587031877008: TensorSpec(shape=(), dtype=tf.resource, name=None)\n",
      "  135587031885840: TensorSpec(shape=(), dtype=tf.resource, name=None)\n",
      "  135587031887376: TensorSpec(shape=(), dtype=tf.resource, name=None)\n",
      "  135587031886608: TensorSpec(shape=(), dtype=tf.resource, name=None)\n",
      "  135587031886224: TensorSpec(shape=(), dtype=tf.resource, name=None)\n"
     ]
    },
    {
     "name": "stderr",
     "output_type": "stream",
     "text": [
      "/usr/local/lib/python3.11/dist-packages/tensorflow/lite/python/convert.py:997: UserWarning: Statistics for quantized inputs were expected, but not specified; continuing anyway.\n",
      "  warnings.warn(\n",
      "WARNING: All log messages before absl::InitializeLog() is called are written to STDERR\n",
      "W0000 00:00:1761413355.056213      13 tf_tfl_flatbuffer_helpers.cc:365] Ignored output_format.\n",
      "W0000 00:00:1761413355.056284      13 tf_tfl_flatbuffer_helpers.cc:368] Ignored drop_control_dependency.\n",
      "I0000 00:00:1761413355.061200      13 mlir_graph_optimization_pass.cc:401] MLIR V1 optimization pass is not enabled\n"
     ]
    },
    {
     "name": "stdout",
     "output_type": "stream",
     "text": [
      "73.71875 KB\n"
     ]
    },
    {
     "name": "stderr",
     "output_type": "stream",
     "text": [
      "fully_quantize: 0, inference_type: 6, input_inference_type: INT8, output_inference_type: INT8\n"
     ]
    },
    {
     "name": "stdout",
     "output_type": "stream",
     "text": [
      "=== /kaggle/working/shoaib_har_cnn_quant.tflite ===\n",
      "\n",
      "Your TFLite model has '1' subgraph(s). In the subgraph description below,\n",
      "T# represents the Tensor numbers. For example, in Subgraph#0, the EXPAND_DIMS op takes\n",
      "tensor #0 and tensor #1 as input and produces tensor #14 as output.\n",
      "\n",
      "Subgraph#0 main(T#0) -> [T#25]\n",
      "  Op#0 EXPAND_DIMS(T#0, T#1[-3]) -> [T#14]\n",
      "  Op#1 CONV_2D(T#14, T#13, T#12[-19, -21, -104, -69, -153, ...]) -> [T#15]\n",
      "  Op#2 RESHAPE(T#15, T#2[-1, 126, 32]) -> [T#16]\n",
      "  Op#3 EXPAND_DIMS(T#16, T#1[-3]) -> [T#17]\n",
      "  Op#4 CONV_2D(T#17, T#11, T#10[159, 370, -174, -310, 179, ...]) -> [T#18]\n",
      "  Op#5 RESHAPE(T#18, T#3[-1, 124, 32]) -> [T#19]\n",
      "  Op#6 EXPAND_DIMS(T#19, T#4[1]) -> [T#20]\n",
      "  Op#7 MAX_POOL_2D(T#20) -> [T#21]\n",
      "  Op#8 RESHAPE(T#21, T#5[-1, 1984]) -> [T#22]\n",
      "  Op#9 FULLY_CONNECTED(T#22, T#9, T#8[-922, -1144, 595, 279, 658, ...]) -> [T#23]\n",
      "  Op#10 FULLY_CONNECTED(T#23, T#7, T#6[-20, 66, -144, 82, -128, ...]) -> [T#24]\n",
      "  Op#11 SOFTMAX(T#24) -> [T#25]\n",
      "\n",
      "Tensors of Subgraph#0\n",
      "  T#0(serving_default_keras_tensor:0) shape_signature:[-1, 128, 6], type:INT8\n",
      "  T#1(arith.constant) shape:[], type:INT32 RO 4 bytes, buffer: 2, data:[-3]\n",
      "  T#2(arith.constant1) shape:[3], type:INT32 RO 12 bytes, buffer: 3, data:[-1, 126, 32]\n",
      "  T#3(arith.constant2) shape:[3], type:INT32 RO 12 bytes, buffer: 4, data:[-1, 124, 32]\n",
      "  T#4(arith.constant3) shape:[], type:INT32 RO 4 bytes, buffer: 5, data:[1]\n",
      "  T#5(arith.constant4) shape:[2], type:INT32 RO 8 bytes, buffer: 6, data:[-1, 1984]\n",
      "  T#6(tfl.pseudo_qconst) shape:[7], type:INT32 RO 28 bytes, buffer: 7, data:[-20, 66, -144, 82, -128, ...]\n",
      "  T#7(tfl.pseudo_qconst1) shape:[7, 32], type:INT8 RO 224 bytes, buffer: 8, data:[., ., ., ., ., ...]\n",
      "  T#8(tfl.pseudo_qconst2) shape:[32], type:INT32 RO 128 bytes, buffer: 9, data:[-922, -1144, 595, 279, 658, ...]\n",
      "  T#9(tfl.pseudo_qconst3) shape:[32, 1984], type:INT8 RO 63488 bytes, buffer: 10, data:[., ., ., ., ., ...]\n",
      "  T#10(tfl.pseudo_qconst4) shape:[32], type:INT32 RO 128 bytes, buffer: 11, data:[159, 370, -174, -310, 179, ...]\n",
      "  T#11(tfl.pseudo_qconst5) shape:[32, 1, 3, 32], type:INT8 RO 3072 bytes, buffer: 12, data:[., ., !, ., ., ...]\n",
      "  T#12(tfl.pseudo_qconst6) shape:[32], type:INT32 RO 128 bytes, buffer: 13, data:[-19, -21, -104, -69, -153, ...]\n",
      "  T#13(tfl.pseudo_qconst7) shape:[32, 1, 3, 6], type:INT8 RO 576 bytes, buffer: 14, data:[., ., ., ., =, ...]\n",
      "  T#14(sequential_1/conv1d_1/convolution/ExpandDims) shape_signature:[-1, 1, 128, 6], type:INT8\n",
      "  T#15(sequential_1/conv1d_1/Relu;sequential_1/conv1d_1/BiasAdd;sequential_1/conv1d_1/convolution/Squeeze;;sequential_1/conv1d_1/convolution) shape_signature:[-1, 1, 126, 32], type:INT8\n",
      "  T#16(sequential_1/conv1d_1/Relu;sequential_1/conv1d_1/BiasAdd;sequential_1/conv1d_1/convolution/Squeeze;) shape_signature:[-1, 126, 32], type:INT8\n",
      "  T#17(sequential_1/conv1d_1_2/convolution/ExpandDims) shape_signature:[-1, 1, 126, 32], type:INT8\n",
      "  T#18(sequential_1/conv1d_1_2/Relu;sequential_1/conv1d_1_2/BiasAdd;sequential_1/conv1d_1_2/convolution/Squeeze;;sequential_1/conv1d_1_2/convolution) shape_signature:[-1, 1, 124, 32], type:INT8\n",
      "  T#19(sequential_1/conv1d_1_2/Relu;sequential_1/conv1d_1_2/BiasAdd;sequential_1/conv1d_1_2/convolution/Squeeze;) shape_signature:[-1, 124, 32], type:INT8\n",
      "  T#20(sequential_1/max_pooling1d_1/MaxPool1d/ExpandDims) shape_signature:[-1, 1, 124, 32], type:INT8\n",
      "  T#21(sequential_1/max_pooling1d_1/MaxPool1d) shape_signature:[-1, 1, 62, 32], type:INT8\n",
      "  T#22(sequential_1/flatten_1/Reshape) shape_signature:[-1, 1984], type:INT8\n",
      "  T#23(sequential_1/dense_1/MatMul;sequential_1/dense_1/Relu;sequential_1/dense_1/BiasAdd) shape_signature:[-1, 32], type:INT8\n",
      "  T#24(sequential_1/dense_1_2/MatMul;sequential_1/dense_1_2/BiasAdd) shape_signature:[-1, 7], type:INT8\n",
      "  T#25(StatefulPartitionedCall_1:0) shape_signature:[-1, 7], type:INT8\n",
      "\n",
      "---------------------------------------------------------------\n",
      "Your TFLite model has '1' signature_def(s).\n",
      "\n",
      "Signature#0 key: 'serving_default'\n",
      "- Subgraph: Subgraph#0\n",
      "- Inputs: \n",
      "    'keras_tensor' : T#0\n",
      "- Outputs: \n",
      "    'output_0' : T#25\n",
      "\n",
      "---------------------------------------------------------------\n",
      "              Model size:      75488 bytes\n",
      "    Non-data buffer size:       7548 bytes (10.00 %)\n",
      "  Total data buffer size:      67940 bytes (90.00 %)\n",
      "    (Zero value buffers):         16 bytes (00.02 %)\n",
      "\n",
      "* Buffers of TFLite model are mostly used for constant tensors.\n",
      "  And zero value buffers are buffers filled with zeros.\n",
      "  Non-data buffers area are used to store operators, subgraphs and etc.\n",
      "  You can find more details from https://github.com/tensorflow/tensorflow/blob/master/tensorflow/lite/schema/schema.fbs\n",
      "\n"
     ]
    }
   ],
   "source": [
    "converter = tf.lite.TFLiteConverter.from_keras_model(model)\n",
    "converter.optimizations = [tf.lite.Optimize.DEFAULT]\n",
    "\n",
    "# Provide a representative dataset for calibration (important!)\n",
    "def representative_data():\n",
    "    for data in tf.data.Dataset.from_tensor_slices(X_train).batch(1).take(100):\n",
    "        yield [tf.cast(data, tf.float32)]\n",
    "\n",
    "converter.representative_dataset = representative_data\n",
    "converter.target_spec.supported_ops = [tf.lite.OpsSet.TFLITE_BUILTINS_INT8]\n",
    "converter.inference_input_type = tf.int8\n",
    "converter.inference_output_type = tf.int8\n",
    "\n",
    "tflite_quant_model = converter.convert()\n",
    "\n",
    "filename = \"/kaggle/working/shoaib_har_cnn_quant.tflite\"\n",
    "with open(filename, \"wb\") as f:\n",
    "    f.write(tflite_quant_model)\n",
    "\n",
    "\n",
    "print(os.path.getsize(filename) / 1024, \"KB\")\n",
    "\n",
    "!echo \"const unsigned char model[] = {\" > /kaggle/working/shoaib_har_cnn_quant.h\n",
    "!cat shoaib_har_cnn_quant.tflite | xxd -i      >> /kaggle/working/shoaib_har_cnn_quant.h\n",
    "!echo \"};\"                              >> /kaggle/working/shoaib_har_cnn_quant.h\n",
    "\n",
    "tf.lite.experimental.Analyzer.analyze(model_path=filename)"
   ]
  },
  {
   "cell_type": "markdown",
   "id": "9f4ba5b1",
   "metadata": {
    "papermill": {
     "duration": 0.062069,
     "end_time": "2025-10-25T17:29:16.439668",
     "exception": false,
     "start_time": "2025-10-25T17:29:16.377599",
     "status": "completed"
    },
    "tags": []
   },
   "source": [
    "# Evaluate TFLite"
   ]
  },
  {
   "cell_type": "code",
   "execution_count": 11,
   "id": "e7e146ca",
   "metadata": {
    "execution": {
     "iopub.execute_input": "2025-10-25T17:29:16.564576Z",
     "iopub.status.busy": "2025-10-25T17:29:16.564273Z",
     "iopub.status.idle": "2025-10-25T17:29:17.184978Z",
     "shell.execute_reply": "2025-10-25T17:29:17.184335Z"
    },
    "papermill": {
     "duration": 0.685553,
     "end_time": "2025-10-25T17:29:17.185877",
     "exception": false,
     "start_time": "2025-10-25T17:29:16.500324",
     "status": "completed"
    },
    "tags": []
   },
   "outputs": [
    {
     "name": "stderr",
     "output_type": "stream",
     "text": [
      "INFO: Created TensorFlow Lite XNNPACK delegate for CPU.\n"
     ]
    },
    {
     "data": {
      "application/vnd.jupyter.widget-view+json": {
       "model_id": "b7c46f71baf8402385e1fe0bb464f74a",
       "version_major": 2,
       "version_minor": 0
      },
      "text/plain": [
       "  0%|          | 0/9844 [00:00<?, ?it/s]"
      ]
     },
     "metadata": {},
     "output_type": "display_data"
    },
    {
     "name": "stdout",
     "output_type": "stream",
     "text": [
      "              precision    recall  f1-score   support\n",
      "\n",
      "     walking       0.97      0.97      0.97      1408\n",
      "    standing       0.97      0.99      0.98      1406\n",
      "     jogging       0.99      1.00      0.99      1406\n",
      "     sitting       0.99      0.97      0.98      1406\n",
      "      biking       0.99      0.99      0.99      1407\n",
      "    upstairs       0.97      0.96      0.97      1406\n",
      "  downstairs       0.97      0.99      0.98      1405\n",
      "\n",
      "    accuracy                           0.98      9844\n",
      "   macro avg       0.98      0.98      0.98      9844\n",
      "weighted avg       0.98      0.98      0.98      9844\n",
      "\n"
     ]
    },
    {
     "data": {
      "image/png": "[encoded data removed]",
      "text/plain": [
       "<Figure size 640x480 with 2 Axes>"
      ]
     },
     "metadata": {},
     "output_type": "display_data"
    }
   ],
   "source": [
    "interpreter = tf.lite.Interpreter(model_path=\"/kaggle/working/shoaib_har_cnn_quant.tflite\")\n",
    "interpreter.allocate_tensors()\n",
    "\n",
    "input_details = interpreter.get_input_details()\n",
    "output_details = interpreter.get_output_details()\n",
    "\n",
    "scale, zero_point = input_details[0]['quantization']\n",
    "\n",
    "y_tflite_pred = []\n",
    "\n",
    "for i in tqdm(range(len(X_test))):\n",
    "    # Quantize one sample\n",
    "    x = np.round(X_test[i:i+1] / scale + zero_point).astype(np.int8)\n",
    "    \n",
    "    interpreter.set_tensor(input_details[0]['index'], x)\n",
    "    interpreter.invoke()\n",
    "    \n",
    "    # Dequantize output (optional)\n",
    "    yq = interpreter.get_tensor(output_details[0]['index'])\n",
    "    y_tflite_pred.append(np.argmax(yq, axis=1)[0])\n",
    "\n",
    "y_tflite_pred = np.array(y_tflite_pred)\n",
    "\n",
    "print(classification_report(y_true, y_tflite_pred, target_names=labels))\n",
    "\n",
    "cm = confusion_matrix(y_true, y_tflite_pred)\n",
    "cm = cm / cm.sum(axis=1)[:, None]\n",
    "sns.heatmap(cm, annot=True, xticklabels=labels, yticklabels=labels, fmt=\".2f\", cmap=\"Blues\")\n",
    "plt.xlabel('Predicted')\n",
    "plt.ylabel('True')\n",
    "plt.title('TFLite Model Confusion Matrix')\n",
    "plt.show()"
   ]
  }
 ],
 "metadata": {
  "kaggle": {
   "accelerator": "none",
   "dataSources": [
    {
     "datasetId": 8504686,
     "sourceId": 13401539,
     "sourceType": "datasetVersion"
    }
   ],
   "dockerImageVersionId": 31153,
   "isGpuEnabled": false,
   "isInternetEnabled": false,
   "language": "python",
   "sourceType": "notebook"
  },
  "kernelspec": {
   "display_name": "Python 3",
   "language": "python",
   "name": "python3"
  },
  "language_info": {
   "codemirror_mode": {
    "name": "ipython",
    "version": 3
   },
   "file_extension": ".py",
   "mimetype": "text/x-python",
   "name": "python",
   "nbconvert_exporter": "python",
   "pygments_lexer": "ipython3",
   "version": "3.11.13"
  },
  "papermill": {
   "default_parameters": {},
   "duration": 152.604973,
   "end_time": "2025-10-25T17:29:20.136139",
   "environment_variables": {},
   "exception": null,
   "input_path": "__notebook__.ipynb",
   "output_path": "__notebook__.ipynb",
   "parameters": {},
   "start_time": "2025-10-25T17:26:47.531166",
   "version": "2.6.0"
  },
  "widgets": {
   "application/vnd.jupyter.widget-state+json": {
    "state": {
     "0f36f746efb94eb2872c83ec76c6d86f": {
      "model_module": "@jupyter-widgets/controls",
      "model_module_version": "2.0.0",
      "model_name": "HTMLModel",
      "state": {
       "_dom_classes": [],
       "_model_module": "@jupyter-widgets/controls",
       "_model_module_version": "2.0.0",
       "_model_name": "HTMLModel",
       "_view_count": null,
       "_view_module": "@jupyter-widgets/controls",
       "_view_module_version": "2.0.0",
       "_view_name": "HTMLView",
       "description": "",
       "description_allow_html": false,
       "layout": "IPY_MODEL_261a519e026b44fa9d32d53eed9bdcb3",
       "placeholder": "​",
       "style": "IPY_MODEL_997bfaa46a974dee930b2c6418e99b96",
       "tabbable": null,
       "tooltip": null,
       "value": "100%"
      }
     },
     "1aceb6d2bc104305a0bd1dbea1802618": {
      "model_module": "@jupyter-widgets/base",
      "model_module_version": "2.0.0",
      "model_name": "LayoutModel",
      "state": {
       "_model_module": "@jupyter-widgets/base",
       "_model_module_version": "2.0.0",
       "_model_name": "LayoutModel",
       "_view_count": null,
       "_view_module": "@jupyter-widgets/base",
       "_view_module_version": "2.0.0",
       "_view_name": "LayoutView",
       "align_content": null,
       "align_items": null,
       "align_self": null,
       "border_bottom": null,
       "border_left": null,
       "border_right": null,
       "border_top": null,
       "bottom": null,
       "display": null,
       "flex": null,
       "flex_flow": null,
       "grid_area": null,
       "grid_auto_columns": null,
       "grid_auto_flow": null,
       "grid_auto_rows": null,
       "grid_column": null,
       "grid_gap": null,
       "grid_row": null,
       "grid_template_areas": null,
       "grid_template_columns": null,
       "grid_template_rows": null,
       "height": null,
       "justify_content": null,
       "justify_items": null,
       "left": null,
       "margin": null,
       "max_height": null,
       "max_width": null,
       "min_height": null,
       "min_width": null,
       "object_fit": null,
       "object_position": null,
       "order": null,
       "overflow": null,
       "padding": null,
       "right": null,
       "top": null,
       "visibility": null,
       "width": null
      }
     },
     "261a519e026b44fa9d32d53eed9bdcb3": {
      "model_module": "@jupyter-widgets/base",
      "model_module_version": "2.0.0",
      "model_name": "LayoutModel",
      "state": {
       "_model_module": "@jupyter-widgets/base",
       "_model_module_version": "2.0.0",
       "_model_name": "LayoutModel",
       "_view_count": null,
       "_view_module": "@jupyter-widgets/base",
       "_view_module_version": "2.0.0",
       "_view_name": "LayoutView",
       "align_content": null,
       "align_items": null,
       "align_self": null,
       "border_bottom": null,
       "border_left": null,
       "border_right": null,
       "border_top": null,
       "bottom": null,
       "display": null,
       "flex": null,
       "flex_flow": null,
       "grid_area": null,
       "grid_auto_columns": null,
       "grid_auto_flow": null,
       "grid_auto_rows": null,
       "grid_column": null,
       "grid_gap": null,
       "grid_row": null,
       "grid_template_areas": null,
       "grid_template_columns": null,
       "grid_template_rows": null,
       "height": null,
       "justify_content": null,
       "justify_items": null,
       "left": null,
       "margin": null,
       "max_height": null,
       "max_width": null,
       "min_height": null,
       "min_width": null,
       "object_fit": null,
       "object_position": null,
       "order": null,
       "overflow": null,
       "padding": null,
       "right": null,
       "top": null,
       "visibility": null,
       "width": null
      }
     },
     "3111aa8eb87246bda6be5d200307a1c2": {
      "model_module": "@jupyter-widgets/base",
      "model_module_version": "2.0.0",
      "model_name": "LayoutModel",
      "state": {
       "_model_module": "@jupyter-widgets/base",
       "_model_module_version": "2.0.0",
       "_model_name": "LayoutModel",
       "_view_count": null,
       "_view_module": "@jupyter-widgets/base",
       "_view_module_version": "2.0.0",
       "_view_name": "LayoutView",
       "align_content": null,
       "align_items": null,
       "align_self": null,
       "border_bottom": null,
       "border_left": null,
       "border_right": null,
       "border_top": null,
       "bottom": null,
       "display": null,
       "flex": null,
       "flex_flow": null,
       "grid_area": null,
       "grid_auto_columns": null,
       "grid_auto_flow": null,
       "grid_auto_rows": null,
       "grid_column": null,
       "grid_gap": null,
       "grid_row": null,
       "grid_template_areas": null,
       "grid_template_columns": null,
       "grid_template_rows": null,
       "height": null,
       "justify_content": null,
       "justify_items": null,
       "left": null,
       "margin": null,
       "max_height": null,
       "max_width": null,
       "min_height": null,
       "min_width": null,
       "object_fit": null,
       "object_position": null,
       "order": null,
       "overflow": null,
       "padding": null,
       "right": null,
       "top": null,
       "visibility": null,
       "width": null
      }
     },
     "31d3a93b5b50484baf799ac31d9ef748": {
      "model_module": "@jupyter-widgets/controls",
      "model_module_version": "2.0.0",
      "model_name": "ProgressStyleModel",
      "state": {
       "_model_module": "@jupyter-widgets/controls",
       "_model_module_version": "2.0.0",
       "_model_name": "ProgressStyleModel",
       "_view_count": null,
       "_view_module": "@jupyter-widgets/base",
       "_view_module_version": "2.0.0",
       "_view_name": "StyleView",
       "bar_color": null,
       "description_width": ""
      }
     },
     "417b685fce104851bcd1872b0473d3cd": {
      "model_module": "@jupyter-widgets/controls",
      "model_module_version": "2.0.0",
      "model_name": "HTMLModel",
      "state": {
       "_dom_classes": [],
       "_model_module": "@jupyter-widgets/controls",
       "_model_module_version": "2.0.0",
       "_model_name": "HTMLModel",
       "_view_count": null,
       "_view_module": "@jupyter-widgets/controls",
       "_view_module_version": "2.0.0",
       "_view_name": "HTMLView",
       "description": "",
       "description_allow_html": false,
       "layout": "IPY_MODEL_3111aa8eb87246bda6be5d200307a1c2",
       "placeholder": "​",
       "style": "IPY_MODEL_d751d7965f294351aed75db19f25eac4",
       "tabbable": null,
       "tooltip": null,
       "value": " 9844/9844 [00:00&lt;00:00, 30516.95it/s]"
      }
     },
     "4cee79fc6cce44a39cf5eb6a34b057f1": {
      "model_module": "@jupyter-widgets/controls",
      "model_module_version": "2.0.0",
      "model_name": "HTMLModel",
      "state": {
       "_dom_classes": [],
       "_model_module": "@jupyter-widgets/controls",
       "_model_module_version": "2.0.0",
       "_model_name": "HTMLModel",
       "_view_count": null,
       "_view_module": "@jupyter-widgets/controls",
       "_view_module_version": "2.0.0",
       "_view_name": "HTMLView",
       "description": "",
       "description_allow_html": false,
       "layout": "IPY_MODEL_777f7280875f41f1bcd118327276e93a",
       "placeholder": "​",
       "style": "IPY_MODEL_6af11ae22b5d4f08ad878ef98625387e",
       "tabbable": null,
       "tooltip": null,
       "value": "100%"
      }
     },
     "576f28159187423b9c01eaa4d9420104": {
      "model_module": "@jupyter-widgets/base",
      "model_module_version": "2.0.0",
      "model_name": "LayoutModel",
      "state": {
       "_model_module": "@jupyter-widgets/base",
       "_model_module_version": "2.0.0",
       "_model_name": "LayoutModel",
       "_view_count": null,
       "_view_module": "@jupyter-widgets/base",
       "_view_module_version": "2.0.0",
       "_view_name": "LayoutView",
       "align_content": null,
       "align_items": null,
       "align_self": null,
       "border_bottom": null,
       "border_left": null,
       "border_right": null,
       "border_top": null,
       "bottom": null,
       "display": null,
       "flex": null,
       "flex_flow": null,
       "grid_area": null,
       "grid_auto_columns": null,
       "grid_auto_flow": null,
       "grid_auto_rows": null,
       "grid_column": null,
       "grid_gap": null,
       "grid_row": null,
       "grid_template_areas": null,
       "grid_template_columns": null,
       "grid_template_rows": null,
       "height": null,
       "justify_content": null,
       "justify_items": null,
       "left": null,
       "margin": null,
       "max_height": null,
       "max_width": null,
       "min_height": null,
       "min_width": null,
       "object_fit": null,
       "object_position": null,
       "order": null,
       "overflow": null,
       "padding": null,
       "right": null,
       "top": null,
       "visibility": null,
       "width": null
      }
     },
     "5dbaf8ea7c4d44d99020332e630aa650": {
      "model_module": "@jupyter-widgets/base",
      "model_module_version": "2.0.0",
      "model_name": "LayoutModel",
      "state": {
       "_model_module": "@jupyter-widgets/base",
       "_model_module_version": "2.0.0",
       "_model_name": "LayoutModel",
       "_view_count": null,
       "_view_module": "@jupyter-widgets/base",
       "_view_module_version": "2.0.0",
       "_view_name": "LayoutView",
       "align_content": null,
       "align_items": null,
       "align_self": null,
       "border_bottom": null,
       "border_left": null,
       "border_right": null,
       "border_top": null,
       "bottom": null,
       "display": null,
       "flex": null,
       "flex_flow": null,
       "grid_area": null,
       "grid_auto_columns": null,
       "grid_auto_flow": null,
       "grid_auto_rows": null,
       "grid_column": null,
       "grid_gap": null,
       "grid_row": null,
       "grid_template_areas": null,
       "grid_template_columns": null,
       "grid_template_rows": null,
       "height": null,
       "justify_content": null,
       "justify_items": null,
       "left": null,
       "margin": null,
       "max_height": null,
       "max_width": null,
       "min_height": null,
       "min_width": null,
       "object_fit": null,
       "object_position": null,
       "order": null,
       "overflow": null,
       "padding": null,
       "right": null,
       "top": null,
       "visibility": null,
       "width": null
      }
     },
     "6614f4ea971a4333bcdf665e359b66c4": {
      "model_module": "@jupyter-widgets/base",
      "model_module_version": "2.0.0",
      "model_name": "LayoutModel",
      "state": {
       "_model_module": "@jupyter-widgets/base",
       "_model_module_version": "2.0.0",
       "_model_name": "LayoutModel",
       "_view_count": null,
       "_view_module": "@jupyter-widgets/base",
       "_view_module_version": "2.0.0",
       "_view_name": "LayoutView",
       "align_content": null,
       "align_items": null,
       "align_self": null,
       "border_bottom": null,
       "border_left": null,
       "border_right": null,
       "border_top": null,
       "bottom": null,
       "display": null,
       "flex": null,
       "flex_flow": null,
       "grid_area": null,
       "grid_auto_columns": null,
       "grid_auto_flow": null,
       "grid_auto_rows": null,
       "grid_column": null,
       "grid_gap": null,
       "grid_row": null,
       "grid_template_areas": null,
       "grid_template_columns": null,
       "grid_template_rows": null,
       "height": null,
       "justify_content": null,
       "justify_items": null,
       "left": null,
       "margin": null,
       "max_height": null,
       "max_width": null,
       "min_height": null,
       "min_width": null,
       "object_fit": null,
       "object_position": null,
       "order": null,
       "overflow": null,
       "padding": null,
       "right": null,
       "top": null,
       "visibility": null,
       "width": null
      }
     },
     "6a58dda601294ec198e0e09eb809b049": {
      "model_module": "@jupyter-widgets/base",
      "model_module_version": "2.0.0",
      "model_name": "LayoutModel",
      "state": {
       "_model_module": "@jupyter-widgets/base",
       "_model_module_version": "2.0.0",
       "_model_name": "LayoutModel",
       "_view_count": null,
       "_view_module": "@jupyter-widgets/base",
       "_view_module_version": "2.0.0",
       "_view_name": "LayoutView",
       "align_content": null,
       "align_items": null,
       "align_self": null,
       "border_bottom": null,
       "border_left": null,
       "border_right": null,
       "border_top": null,
       "bottom": null,
       "display": null,
       "flex": null,
       "flex_flow": null,
       "grid_area": null,
       "grid_auto_columns": null,
       "grid_auto_flow": null,
       "grid_auto_rows": null,
       "grid_column": null,
       "grid_gap": null,
       "grid_row": null,
       "grid_template_areas": null,
       "grid_template_columns": null,
       "grid_template_rows": null,
       "height": null,
       "justify_content": null,
       "justify_items": null,
       "left": null,
       "margin": null,
       "max_height": null,
       "max_width": null,
       "min_height": null,
       "min_width": null,
       "object_fit": null,
       "object_position": null,
       "order": null,
       "overflow": null,
       "padding": null,
       "right": null,
       "top": null,
       "visibility": null,
       "width": null
      }
     },
     "6af11ae22b5d4f08ad878ef98625387e": {
      "model_module": "@jupyter-widgets/controls",
      "model_module_version": "2.0.0",
      "model_name": "HTMLStyleModel",
      "state": {
       "_model_module": "@jupyter-widgets/controls",
       "_model_module_version": "2.0.0",
       "_model_name": "HTMLStyleModel",
       "_view_count": null,
       "_view_module": "@jupyter-widgets/base",
       "_view_module_version": "2.0.0",
       "_view_name": "StyleView",
       "background": null,
       "description_width": "",
       "font_size": null,
       "text_color": null
      }
     },
     "70abfaf3706e4cb4b30eaa6a34629f1c": {
      "model_module": "@jupyter-widgets/controls",
      "model_module_version": "2.0.0",
      "model_name": "HTMLStyleModel",
      "state": {
       "_model_module": "@jupyter-widgets/controls",
       "_model_module_version": "2.0.0",
       "_model_name": "HTMLStyleModel",
       "_view_count": null,
       "_view_module": "@jupyter-widgets/base",
       "_view_module_version": "2.0.0",
       "_view_name": "StyleView",
       "background": null,
       "description_width": "",
       "font_size": null,
       "text_color": null
      }
     },
     "7362bb77d6e94607b02ba7fcff1d716f": {
      "model_module": "@jupyter-widgets/controls",
      "model_module_version": "2.0.0",
      "model_name": "FloatProgressModel",
      "state": {
       "_dom_classes": [],
       "_model_module": "@jupyter-widgets/controls",
       "_model_module_version": "2.0.0",
       "_model_name": "FloatProgressModel",
       "_view_count": null,
       "_view_module": "@jupyter-widgets/controls",
       "_view_module_version": "2.0.0",
       "_view_name": "ProgressView",
       "bar_style": "success",
       "description": "",
       "description_allow_html": false,
       "layout": "IPY_MODEL_1aceb6d2bc104305a0bd1dbea1802618",
       "max": 50.0,
       "min": 0.0,
       "orientation": "horizontal",
       "style": "IPY_MODEL_b40674efaa7f4c7cb53903b5cb9854e9",
       "tabbable": null,
       "tooltip": null,
       "value": 50.0
      }
     },
     "7506e881b8b94599bcd416f30ab14eb9": {
      "model_module": "@jupyter-widgets/controls",
      "model_module_version": "2.0.0",
      "model_name": "HTMLModel",
      "state": {
       "_dom_classes": [],
       "_model_module": "@jupyter-widgets/controls",
       "_model_module_version": "2.0.0",
       "_model_name": "HTMLModel",
       "_view_count": null,
       "_view_module": "@jupyter-widgets/controls",
       "_view_module_version": "2.0.0",
       "_view_name": "HTMLView",
       "description": "",
       "description_allow_html": false,
       "layout": "IPY_MODEL_6614f4ea971a4333bcdf665e359b66c4",
       "placeholder": "​",
       "style": "IPY_MODEL_70abfaf3706e4cb4b30eaa6a34629f1c",
       "tabbable": null,
       "tooltip": null,
       "value": " 50/50 [00:05&lt;00:00,  8.01it/s]"
      }
     },
     "777f7280875f41f1bcd118327276e93a": {
      "model_module": "@jupyter-widgets/base",
      "model_module_version": "2.0.0",
      "model_name": "LayoutModel",
      "state": {
       "_model_module": "@jupyter-widgets/base",
       "_model_module_version": "2.0.0",
       "_model_name": "LayoutModel",
       "_view_count": null,
       "_view_module": "@jupyter-widgets/base",
       "_view_module_version": "2.0.0",
       "_view_name": "LayoutView",
       "align_content": null,
       "align_items": null,
       "align_self": null,
       "border_bottom": null,
       "border_left": null,
       "border_right": null,
       "border_top": null,
       "bottom": null,
       "display": null,
       "flex": null,
       "flex_flow": null,
       "grid_area": null,
       "grid_auto_columns": null,
       "grid_auto_flow": null,
       "grid_auto_rows": null,
       "grid_column": null,
       "grid_gap": null,
       "grid_row": null,
       "grid_template_areas": null,
       "grid_template_columns": null,
       "grid_template_rows": null,
       "height": null,
       "justify_content": null,
       "justify_items": null,
       "left": null,
       "margin": null,
       "max_height": null,
       "max_width": null,
       "min_height": null,
       "min_width": null,
       "object_fit": null,
       "object_position": null,
       "order": null,
       "overflow": null,
       "padding": null,
       "right": null,
       "top": null,
       "visibility": null,
       "width": null
      }
     },
     "8c732c52b9274d75b314e126d77d3f89": {
      "model_module": "@jupyter-widgets/controls",
      "model_module_version": "2.0.0",
      "model_name": "HBoxModel",
      "state": {
       "_dom_classes": [],
       "_model_module": "@jupyter-widgets/controls",
       "_model_module_version": "2.0.0",
       "_model_name": "HBoxModel",
       "_view_count": null,
       "_view_module": "@jupyter-widgets/controls",
       "_view_module_version": "2.0.0",
       "_view_name": "HBoxView",
       "box_style": "",
       "children": [
        "IPY_MODEL_0f36f746efb94eb2872c83ec76c6d86f",
        "IPY_MODEL_7362bb77d6e94607b02ba7fcff1d716f",
        "IPY_MODEL_7506e881b8b94599bcd416f30ab14eb9"
       ],
       "layout": "IPY_MODEL_5dbaf8ea7c4d44d99020332e630aa650",
       "tabbable": null,
       "tooltip": null
      }
     },
     "997bfaa46a974dee930b2c6418e99b96": {
      "model_module": "@jupyter-widgets/controls",
      "model_module_version": "2.0.0",
      "model_name": "HTMLStyleModel",
      "state": {
       "_model_module": "@jupyter-widgets/controls",
       "_model_module_version": "2.0.0",
       "_model_name": "HTMLStyleModel",
       "_view_count": null,
       "_view_module": "@jupyter-widgets/base",
       "_view_module_version": "2.0.0",
       "_view_name": "StyleView",
       "background": null,
       "description_width": "",
       "font_size": null,
       "text_color": null
      }
     },
     "b40674efaa7f4c7cb53903b5cb9854e9": {
      "model_module": "@jupyter-widgets/controls",
      "model_module_version": "2.0.0",
      "model_name": "ProgressStyleModel",
      "state": {
       "_model_module": "@jupyter-widgets/controls",
       "_model_module_version": "2.0.0",
       "_model_name": "ProgressStyleModel",
       "_view_count": null,
       "_view_module": "@jupyter-widgets/base",
       "_view_module_version": "2.0.0",
       "_view_name": "StyleView",
       "bar_color": null,
       "description_width": ""
      }
     },
     "b7c46f71baf8402385e1fe0bb464f74a": {
      "model_module": "@jupyter-widgets/controls",
      "model_module_version": "2.0.0",
      "model_name": "HBoxModel",
      "state": {
       "_dom_classes": [],
       "_model_module": "@jupyter-widgets/controls",
       "_model_module_version": "2.0.0",
       "_model_name": "HBoxModel",
       "_view_count": null,
       "_view_module": "@jupyter-widgets/controls",
       "_view_module_version": "2.0.0",
       "_view_name": "HBoxView",
       "box_style": "",
       "children": [
        "IPY_MODEL_4cee79fc6cce44a39cf5eb6a34b057f1",
        "IPY_MODEL_d5e1cb5a73824e6ea490ad749cc2bcc9",
        "IPY_MODEL_417b685fce104851bcd1872b0473d3cd"
       ],
       "layout": "IPY_MODEL_576f28159187423b9c01eaa4d9420104",
       "tabbable": null,
       "tooltip": null
      }
     },
     "d5e1cb5a73824e6ea490ad749cc2bcc9": {
      "model_module": "@jupyter-widgets/controls",
      "model_module_version": "2.0.0",
      "model_name": "FloatProgressModel",
      "state": {
       "_dom_classes": [],
       "_model_module": "@jupyter-widgets/controls",
       "_model_module_version": "2.0.0",
       "_model_name": "FloatProgressModel",
       "_view_count": null,
       "_view_module": "@jupyter-widgets/controls",
       "_view_module_version": "2.0.0",
       "_view_name": "ProgressView",
       "bar_style": "success",
       "description": "",
       "description_allow_html": false,
       "layout": "IPY_MODEL_6a58dda601294ec198e0e09eb809b049",
       "max": 9844.0,
       "min": 0.0,
       "orientation": "horizontal",
       "style": "IPY_MODEL_31d3a93b5b50484baf799ac31d9ef748",
       "tabbable": null,
       "tooltip": null,
       "value": 9844.0
      }
     },
     "d751d7965f294351aed75db19f25eac4": {
      "model_module": "@jupyter-widgets/controls",
      "model_module_version": "2.0.0",
      "model_name": "HTMLStyleModel",
      "state": {
       "_model_module": "@jupyter-widgets/controls",
       "_model_module_version": "2.0.0",
       "_model_name": "HTMLStyleModel",
       "_view_count": null,
       "_view_module": "@jupyter-widgets/base",
       "_view_module_version": "2.0.0",
       "_view_name": "StyleView",
       "background": null,
       "description_width": "",
       "font_size": null,
       "text_color": null
      }
     }
    },
    "version_major": 2,
    "version_minor": 0
   }
  }
 },
 "nbformat": 4,
 "nbformat_minor": 5
}
